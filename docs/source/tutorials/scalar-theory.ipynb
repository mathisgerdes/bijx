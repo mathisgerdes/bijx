{
 "cells": [
  {
   "cell_type": "markdown",
   "metadata": {},
   "source": [
    "# Scalar field theory"
   ]
  },
  {
   "cell_type": "code",
   "execution_count": 1,
   "metadata": {},
   "outputs": [],
   "source": [
    "import flax\n",
    "import flax.nnx as nnx\n",
    "import jax\n",
    "import jax.numpy as jnp\n",
    "import matplotlib.pyplot as plt\n",
    "import numpy as np\n",
    "from jax_autovmap import auto_vmap\n",
    "\n",
    "import lfx"
   ]
  },
  {
   "cell_type": "markdown",
   "metadata": {},
   "source": [
    "## Free theory"
   ]
  },
  {
   "cell_type": "code",
   "execution_count": 2,
   "metadata": {},
   "outputs": [],
   "source": [
    "import lfx.core.linear\n",
    "\n",
    "\n",
    "mass = 0.5\n",
    "lat_shape = (32, 32)\n",
    "\n",
    "# constructing scaling explicitly here;\n",
    "# note there is also lfx.FreeTheoryScaling (see MCMC section below)\n",
    "ks = lfx.fft_momenta(lat_shape, lattice=True)\n",
    "spectrum = 1 / (mass**2 + jnp.sum(ks**2, axis=-1))\n",
    "\n",
    "# note: specturm here could also be a nnx.Param to make it trainable;\n",
    "# or set it to output of (trainable) function of ks\n",
    "scaling = lfx.core.linear.SpectrumScaling(spectrum)\n",
    "\n",
    "free_theory_prior = lfx.Sampler(\n",
    "    lfx.IndependentNormal(lat_shape, rngs=nnx.Rngs(sample=0)),\n",
    "    scaling\n",
    ")"
   ]
  },
  {
   "cell_type": "code",
   "execution_count": 3,
   "metadata": {},
   "outputs": [
    {
     "data": {
      "image/png": "[encoded data removed]",
      "text/plain": [
       "<Figure size 640x480 with 1 Axes>"
      ]
     },
     "metadata": {},
     "output_type": "display_data"
    }
   ],
   "source": [
    "x, _ = free_theory_prior.sample()\n",
    "plt.imshow(x)\n",
    "plt.axis('off')\n",
    "plt.show()"
   ]
  },
  {
   "cell_type": "markdown",
   "metadata": {},
   "source": [
    "## Phi4"
   ]
  },
  {
   "cell_type": "code",
   "execution_count": 4,
   "metadata": {},
   "outputs": [],
   "source": [
    "# \"build\" provides a constructor similar to the jaxnf version\n",
    "\n",
    "rngs = nnx.Rngs(params=0)\n",
    "vf = lfx.Phi4CNF.build((32, 32), (), rngs=rngs)"
   ]
  },
  {
   "cell_type": "markdown",
   "metadata": {},
   "source": [
    "## Transfer model parameters from previous version"
   ]
  },
  {
   "cell_type": "code",
   "execution_count": 5,
   "metadata": {},
   "outputs": [],
   "source": [
    "# convolution conventions change between frameworks, need to relabel orbits\n",
    "import jaxnf\n",
    "\n",
    "def reshuffle_orbits(kernel_params, kernel_shape):\n",
    "    oc, old_orbits = jaxnf.lattice.conv_utils.kernel_d4(kernel_shape)\n",
    "    kernel = jaxnf.lattice.conv_utils.unfold_kernel(kernel_params, old_orbits)\n",
    "    for d, s in enumerate(kernel.shape[:-2]):\n",
    "        kernel = jnp.roll(kernel, -1 + (s % 2), axis=d)\n",
    "    return lfx.conv.fold_kernel(kernel, vf.conv.orbits, oc)"
   ]
  },
  {
   "cell_type": "code",
   "execution_count": 6,
   "metadata": {},
   "outputs": [],
   "source": [
    "# transfer jaxnf -> this\n",
    "\n",
    "# setup and get jaxnf parameters for demonstration\n",
    "jaxnf_vf = jaxnf.lattice.Phi4CNF((32, 32))\n",
    "params_jxnf = jaxnf_vf.init(\n",
    "    rngs.params(), 0.1, (jnp.zeros((32, 32, 1)), 0.0))['params']\n",
    "\n",
    "params_jxnf = jax.tree.map(lambda p: p + np.random.normal(size=p.shape), params_jxnf)\n",
    "\n",
    "# transfer parameters\n",
    "_, params = nnx.split(vf)\n",
    "\n",
    "params.replace_by_pure_dict({\n",
    "    'conv': {'kernel_params': reshuffle_orbits(params_jxnf['kernel'], (32, 32))},\n",
    "    'feature_map': {'features': {0: params_jxnf['features_0']}},\n",
    "    'feature_superposition': params_jxnf['freq_superpos'],\n",
    "    'time_kernel': {'superposition': params_jxnf['time_superpos']}\n",
    "})\n",
    "\n",
    "# in place update\n",
    "nnx.update(vf, params)"
   ]
  },
  {
   "cell_type": "code",
   "execution_count": 7,
   "metadata": {},
   "outputs": [],
   "source": [
    "# transfer haiku -> this\n",
    "file_path = '../../../data/single-L32.npz'  # set this to where parameters are stored\n",
    "try:\n",
    "    params_haiku = np.load(file_path, allow_pickle=True)['params'].item()\n",
    "\n",
    "    _, params = nnx.split(vf)\n",
    "\n",
    "    params.replace_by_pure_dict({\n",
    "        'conv': {'kernel_params': reshuffle_orbits(params_haiku['~']['w'], (32, 32))},\n",
    "        'feature_map': {'features': {0: {'phi_freq': params_haiku['~']['phi_freq'][None]}}},\n",
    "        'feature_superposition': params_haiku['~']['freq_superpos'],\n",
    "        'time_kernel': {'superposition': params_haiku['~']['time_superpos']}\n",
    "    })\n",
    "\n",
    "    # in place update\n",
    "    nnx.update(vf, params)\n",
    "except FileNotFoundError:\n",
    "    print('skipping parameter loading')"
   ]
  },
  {
   "cell_type": "markdown",
   "metadata": {},
   "source": [
    "## Sampling"
   ]
  },
  {
   "cell_type": "code",
   "execution_count": 8,
   "metadata": {},
   "outputs": [],
   "source": [
    "# flow = lfx.ContFlowRK4(vf, dt=1/50)\n",
    "flow = lfx.ContFlowDiffrax(vf, config=lfx.DiffraxConfig(dt=1/10))\n",
    "sampler = lfx.Sampler(\n",
    "    lfx.IndependentNormal((32, 32), rngs=nnx.Rngs(sample=0)),\n",
    "    flow,\n",
    ")"
   ]
  },
  {
   "cell_type": "code",
   "execution_count": 9,
   "metadata": {},
   "outputs": [
    {
     "data": {
      "image/png": "[encoded data removed]",
      "text/plain": [
       "<Figure size 640x480 with 1 Axes>"
      ]
     },
     "metadata": {},
     "output_type": "display_data"
    }
   ],
   "source": [
    "x, _ = sampler.sample(())\n",
    "plt.imshow(x)\n",
    "plt.show()"
   ]
  },
  {
   "cell_type": "markdown",
   "metadata": {},
   "source": [
    "# Fourier components"
   ]
  },
  {
   "cell_type": "code",
   "execution_count": 10,
   "metadata": {},
   "outputs": [],
   "source": [
    "\n",
    "import matplotlib.pyplot as plt\n",
    "import numpy as np"
   ]
  },
  {
   "cell_type": "code",
   "execution_count": 11,
   "metadata": {},
   "outputs": [
    {
     "data": {
      "image/png": "[encoded data removed]",
      "text/plain": [
       "<Figure size 640x480 with 2 Axes>"
      ]
     },
     "metadata": {},
     "output_type": "display_data"
    }
   ],
   "source": [
    "# these mask out independent \"real\" degrees of freedom from rfftn\n",
    "rm, im = lfx.fourier.get_fourier_masks((16, 16))\n",
    "plt.subplot(121)\n",
    "plt.imshow(rm)\n",
    "plt.subplot(122)\n",
    "plt.imshow(im)\n",
    "plt.show()"
   ]
  },
  {
   "cell_type": "markdown",
   "metadata": {},
   "source": [
    "# MCMC sampling"
   ]
  },
  {
   "cell_type": "code",
   "execution_count": 12,
   "metadata": {},
   "outputs": [],
   "source": [
    "rngs = nnx.Rngs(43)"
   ]
  },
  {
   "cell_type": "code",
   "execution_count": 13,
   "metadata": {},
   "outputs": [],
   "source": [
    "# startlfx.core.linear free theory\n",
    "mass = 0.5\n",
    "lat_shape = (32, 32)\n",
    "\n",
    "sampler = lfx.Sampler(\n",
    "    lfx.IndependentNormal(lat_shape, rngs=nnx.Rngs(sample=0)),\n",
    "    lfx.core.linear.FreeTheoryScaling(mass**2, lat_shape, half=False)\n",
    ")"
   ]
  },
  {
   "cell_type": "code",
   "execution_count": 14,
   "metadata": {},
   "outputs": [],
   "source": [
    "# define our phi4 theory\n",
    "\n",
    "@flax.struct.dataclass\n",
    "class Phi4Theory:\n",
    "    m2: float = -4\n",
    "    lam: float = 5.0\n",
    "\n",
    "    @auto_vmap(None, 2)\n",
    "    def action(self, phi):\n",
    "        act = lfx.lattice.scalartheory.phi4_term(phi, self.m2, self.lam)\n",
    "        return jnp.sum(act) # / 2\n",
    "\n",
    "    def log_prob(self, phi):\n",
    "        return -self.action(phi)"
   ]
  },
  {
   "cell_type": "code",
   "execution_count": 15,
   "metadata": {},
   "outputs": [],
   "source": [
    "@jax.jit\n",
    "def imh_step(rng, state, mass, lam):\n",
    "    target = Phi4Theory(m2=mass**2, lam=lam)\n",
    "    imh = lfx.sampling.IMH(sampler, target.log_prob)\n",
    "    return imh.step(rng, state)\n",
    "\n",
    "@jax.jit\n",
    "def imh_init(rng, mass, lam):\n",
    "    target = Phi4Theory(m2=mass**2, lam=lam)\n",
    "    imh = lfx.sampling.IMH(sampler, target.log_prob)\n",
    "    return imh.init(rng)"
   ]
  },
  {
   "cell_type": "code",
   "execution_count": 16,
   "metadata": {},
   "outputs": [],
   "source": [
    "lams = np.linspace(0, 0.5, 8)\n",
    "accept_rate = np.zeros(len(lams))\n",
    "\n",
    "for i, lam in enumerate(lams):\n",
    "    count = 5000\n",
    "    accepted = 0\n",
    "\n",
    "    state = imh_init(rngs(), mass, lam)\n",
    "\n",
    "    for _ in range(count):\n",
    "        state, info = imh_step(rngs(), state, mass, lam)\n",
    "        accepted += info.is_accepted\n",
    "    accept_rate[i] = accepted / count"
   ]
  },
  {
   "cell_type": "code",
   "execution_count": 17,
   "metadata": {},
   "outputs": [
    {
     "data": {
      "image/png": "[encoded data removed]",
      "text/plain": [
       "<Figure size 640x480 with 1 Axes>"
      ]
     },
     "metadata": {},
     "output_type": "display_data"
    }
   ],
   "source": [
    "plt.title('independent MH MC with free theory proposal')\n",
    "plt.plot(lams, accept_rate)\n",
    "plt.xlabel('lambda')\n",
    "plt.ylabel('acceptance rate')\n",
    "plt.show()"
   ]
  }
 ],
 "metadata": {
  "kernelspec": {
   "display_name": "env",
   "language": "python",
   "name": "python3"
  },
  "language_info": {
   "codemirror_mode": {
    "name": "ipython",
    "version": 3
   },
   "file_extension": ".py",
   "mimetype": "text/x-python",
   "name": "python",
   "nbconvert_exporter": "python",
   "pygments_lexer": "ipython3",
   "version": "3.12.10"
  }
 },
 "nbformat": 4,
 "nbformat_minor": 2
}
