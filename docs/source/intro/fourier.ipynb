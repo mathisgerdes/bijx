{
 "cells": [
  {
   "cell_type": "markdown",
   "id": "9111aeda",
   "metadata": {},
   "source": [
    "# Fourier Space"
   ]
  },
  {
   "cell_type": "markdown",
   "id": "b026f039",
   "metadata": {},
   "source": [
    "```{eval-rst}\n",
    ".. currentmodule:: bijx\n",
    "```\n",
    "\n",
    "In many physics and machine learning applications, it's advantageous to work with data in Fourier space. \n",
    "In particular, for real-valued data on a lattice (i.e. a discretized image where the lattice is the pixel grid), the Fast Fourier Transform (FFT) gives a natural representation when translational symmetries are present. \n",
    "Bijx provides convenient ways to manage different representations of Fourier-space data through the {class}`FourierData` class."
   ]
  },
  {
   "cell_type": "markdown",
   "id": "2462eaaa",
   "metadata": {},
   "source": [
    "A particular challenge, especially in the context of normalizing flows and bijections, is that not all complex-valued coefficients output by FFT are independent. \n",
    "Denoting $\\tilde{x}_k$ the FFT of a real-valued array $x_i$, we have the (reality) constraint $\\tilde{x}_k = \\tilde{x}_{-k}^*$.\n",
    "This symmetry implies that roughly half of the coefficients are redundant.\n",
    "Both numpy and jax.numpy provide real versions of FFT which eliminate some redundancy, but not all (due to the array having a single datatype, complex, and maintaining a convenient shape).\n",
    "Manually keeping track of these constraints is tedious and error-prone."
   ]
  },
  {
   "cell_type": "markdown",
   "id": "c201d2d1",
   "metadata": {},
   "source": [
    "## Container for Fourier Representations\n",
    "\n",
    "The {class}`FourierData` class acts as a container for data, along with metadata about its current representation. It allows seamless conversion between different representations without having to worry about the underlying symmetry constraints.\n",
    "Any spatial shape and dimension is supported, as well as batch and channel dimensions.\n"
   ]
  },
  {
   "cell_type": "code",
   "execution_count": 3,
   "id": "3a100a3a",
   "metadata": {},
   "outputs": [],
   "source": [
    "import jax.numpy as jnp\n",
    "import numpy as np\n",
    "from bijx.fourier import FourierData, FFTRep"
   ]
  },
  {
   "cell_type": "code",
   "execution_count": 4,
   "id": "174e086f",
   "metadata": {},
   "outputs": [
    {
     "name": "stdout",
     "output_type": "stream",
     "text": [
      "Original real-space data shape: (8, 8)\n",
      "Total degrees of freedom: 64\n"
     ]
    }
   ],
   "source": [
    "# Let's create a sample 2D real-valued array (e.g., an grayscale image)\n",
    "real_shape = (8, 8)\n",
    "x_real = jnp.array(np.random.randn(*real_shape))\n",
    "\n",
    "print(f\"Original real-space data shape: {x_real.shape}\")\n",
    "print(f\"Total degrees of freedom: {x_real.size}\")"
   ]
  },
  {
   "cell_type": "markdown",
   "id": "6295ebae",
   "metadata": {},
   "source": [
    "The {class}`FFTRep` enum defines the four possible representations that {class}`FourierData` can manage and convert between:\n",
    "\n",
    "- `real_space`: The original, real-valued data.\n",
    "- `rfft`: The direct output of `jnp.fft.rfftn`. This is a complex array with a reduced last dimension, but it still contains redundant information due to the Hermitian symmetry.\n",
    "- `comp_complex`: The set of independent complex Fourier coefficients. This is the most compact complex representation.\n",
    "- `comp_real`: The independent degrees of freedom, packed into a single real-valued array. This is often the most convenient representation for use in neural networks."
   ]
  },
  {
   "cell_type": "code",
   "execution_count": 12,
   "id": "aa9832e0",
   "metadata": {},
   "outputs": [
    {
     "name": "stdout",
     "output_type": "stream",
     "text": [
      "Initial representation: real_space\n",
      "Shape of data: (8, 8)\n"
     ]
    }
   ],
   "source": [
    "# Create a FourierData object from our real-space data.\n",
    "# real_shape is passed infer batch dimensions.\n",
    "fd = FourierData.from_real(x_real, real_shape, channel_dim=0)\n",
    "\n",
    "print(f\"Initial representation: {fd.rep.name}\")\n",
    "print(f\"Shape of data: {fd.data.shape}\")"
   ]
  },
  {
   "cell_type": "markdown",
   "id": "7e6c72b1",
   "metadata": {},
   "source": [
    "### rfftn array"
   ]
  },
  {
   "cell_type": "markdown",
   "id": "2d6ef460",
   "metadata": {},
   "source": [
    "The primary way to interact with a `FourierData` object is through its `to()` method. Let's convert our data to the raw `rfft` representation."
   ]
  },
  {
   "cell_type": "code",
   "execution_count": null,
   "id": "622f91d6",
   "metadata": {},
   "outputs": [
    {
     "name": "stdout",
     "output_type": "stream",
     "text": [
      "Representation after converting to rfft: rfft\n",
      "Shape of rFFT data: (8, 5) > 64\n"
     ]
    }
   ],
   "source": [
    "# Convert to the raw rFFT output representation\n",
    "fd_rfft = fd.to(FFTRep.rfft)\n",
    "\n",
    "print(f\"Representation after converting to rfft: {fd_rfft.rep.name}\")\n",
    "print(f\"Shape of rFFT data: {fd_rfft.data.shape}\")"
   ]
  },
  {
   "cell_type": "markdown",
   "id": "96f7d7af",
   "metadata": {},
   "source": [
    "Notice that the last dimension of the `rfft` output is `8 // 2 + 1 = 5`, which is because the dtype is now complex and `rfftn` already removed some redundancy.\n",
    "Nontheless, there are more degrees of freedom in the `fd_rft.data` than in the original real array:"
   ]
  },
  {
   "cell_type": "code",
   "execution_count": 17,
   "id": "6d768eb8",
   "metadata": {},
   "outputs": [
    {
     "name": "stdout",
     "output_type": "stream",
     "text": [
      "complex64\n",
      "Total real values: 80 > 64\n"
     ]
    }
   ],
   "source": [
    "print(fd_rfft.data.dtype)\n",
    "print(f\"Total real values: {2 * fd_rfft.data.size} > {x_real.size}\")"
   ]
  },
  {
   "cell_type": "markdown",
   "id": "a82296c5",
   "metadata": {},
   "source": [
    "### Independent degrees of freedom\n",
    "\n",
    "First, we can reduce to a set of independent complex values, `comp_complex`, by eliminating conjugate pairs.\n",
    "These still contain some entries that are constrained to be purely real.\n",
    "To get a strictly independent set of real values, we can use the `comp_real` representation as demonstrated below."
   ]
  },
  {
   "cell_type": "code",
   "execution_count": 24,
   "id": "dc011d54",
   "metadata": {},
   "outputs": [
    {
     "name": "stdout",
     "output_type": "stream",
     "text": [
      "Representation: comp_complex\n",
      "complex64\n",
      "Total complex values: 68\n",
      "Number of independent complex coefficients: 34\n"
     ]
    }
   ],
   "source": [
    "# Convert to independent complex components\n",
    "fd_comp_complex = fd.to(FFTRep.comp_complex)\n",
    "\n",
    "print(f\"Representation: {fd_comp_complex.rep.name}\")\n",
    "print(fd_comp_complex.data.dtype)\n",
    "# still, have some entries that should be purely real but are represented\n",
    "# as complex number to be contained in a single array\n",
    "print(f\"Total complex values: {2 * fd_comp_complex.data.size}\")\n",
    "\n",
    "print(f\"Number of independent complex coefficients: {fd_comp_complex.data.size}\")"
   ]
  },
  {
   "cell_type": "markdown",
   "id": "63ce897b",
   "metadata": {},
   "source": [
    "Finally, the most compact representation `comp_real` stores all independent real and imaginary parts into a single real-valued array."
   ]
  },
  {
   "cell_type": "code",
   "execution_count": 26,
   "id": "80d4418e",
   "metadata": {},
   "outputs": [
    {
     "name": "stdout",
     "output_type": "stream",
     "text": [
      "Representation: comp_real\n",
      "Shape of independent real DoF data: (64,)\n",
      "Size of independent real DoF: 64\n"
     ]
    },
    {
     "data": {
      "text/plain": [
       "True"
      ]
     },
     "execution_count": 26,
     "metadata": {},
     "output_type": "execute_result"
    }
   ],
   "source": [
    "# Convert to independent real degrees of freedom\n",
    "fd_comp_real = fd.to(FFTRep.comp_real)\n",
    "\n",
    "print(f\"Representation: {fd_comp_real.rep.name}\")\n",
    "print(f\"Shape of independent real DoF data: {fd_comp_real.data.shape}\")\n",
    "print(f\"Size of independent real DoF: {fd_comp_real.data.size}\")\n",
    "\n",
    "# Verify that the total degrees of freedom are conserved\n",
    "fd_comp_real.data.size == x_real.size"
   ]
  },
  {
   "cell_type": "markdown",
   "id": "29ab00c0",
   "metadata": {},
   "source": [
    "### Round-Trip sanity check"
   ]
  },
  {
   "cell_type": "code",
   "execution_count": 27,
   "id": "d4147045",
   "metadata": {},
   "outputs": [
    {
     "data": {
      "text/plain": [
       "True"
      ]
     },
     "execution_count": 27,
     "metadata": {},
     "output_type": "execute_result"
    }
   ],
   "source": [
    "# Let's do a full round-trip: real -> comp_real -> real\n",
    "fd_comp_real = FourierData.from_real(x_real, real_shape, to=FFTRep.comp_real)\n",
    "x_reconstructed = fd_comp_real.to(FFTRep.real_space).data\n",
    "\n",
    "# Check if the reconstruction is close to the original\n",
    "np.allclose(x_real, x_reconstructed, atol=1e-6)"
   ]
  }
 ],
 "metadata": {
  "kernelspec": {
   "display_name": "env",
   "language": "python",
   "name": "python3"
  },
  "language_info": {
   "codemirror_mode": {
    "name": "ipython",
    "version": 3
   },
   "file_extension": ".py",
   "mimetype": "text/x-python",
   "name": "python",
   "nbconvert_exporter": "python",
   "pygments_lexer": "ipython3",
   "version": "3.12.10"
  }
 },
 "nbformat": 4,
 "nbformat_minor": 5
}
