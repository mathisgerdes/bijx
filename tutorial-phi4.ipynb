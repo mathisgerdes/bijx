{
 "cells": [
  {
   "cell_type": "code",
   "execution_count": 1,
   "metadata": {},
   "outputs": [],
   "source": [
    "import lfx\n",
    "import flax.nnx as nnx\n",
    "import flax\n",
    "import jax\n",
    "import jax.numpy as jnp\n",
    "import numpy as np\n",
    "\n",
    "import matplotlib.pyplot as plt\n",
    "import flax.typing as ftp\n",
    "import typing as tp"
   ]
  },
  {
   "cell_type": "markdown",
   "metadata": {},
   "source": [
    "# Free theory"
   ]
  },
  {
   "cell_type": "code",
   "execution_count": 2,
   "metadata": {},
   "outputs": [],
   "source": [
    "mass = 0.5\n",
    "lat_shape = (32, 32)\n",
    "\n",
    "ks = lfx.fft_momenta(lat_shape, lattice=True)\n",
    "spectrum = 1 / (mass**2 + jnp.sum(ks**2, axis=-1))\n",
    "\n",
    "# note: specturm here could also be a nnx.Param to make it trainable;\n",
    "# or set it to output of (trainable) function of ks\n",
    "scaling = lfx.SpectrumScaling(spectrum)\n",
    "\n",
    "free_theory_prior = lfx.Sampler(\n",
    "    lfx.IndependentNormal(lat_shape, rngs=nnx.Rngs(sample=0)),\n",
    "    scaling\n",
    ")"
   ]
  },
  {
   "cell_type": "code",
   "execution_count": 3,
   "metadata": {},
   "outputs": [
    {
     "data": {
      "image/png": "[encoded data removed]",
      "text/plain": [
       "<Figure size 640x480 with 1 Axes>"
      ]
     },
     "metadata": {},
     "output_type": "display_data"
    }
   ],
   "source": [
    "x, _ = free_theory_prior.sample()\n",
    "plt.imshow(x)\n",
    "plt.axis('off')\n",
    "plt.show()"
   ]
  },
  {
   "cell_type": "markdown",
   "metadata": {},
   "source": [
    "# Phi4"
   ]
  },
  {
   "cell_type": "code",
   "execution_count": 4,
   "metadata": {},
   "outputs": [],
   "source": [
    "# \"build\" provides a constructor similar to the jaxnf version\n",
    "\n",
    "rngs = nnx.Rngs(params=0)\n",
    "vf = lfx.Phi4CNF.build((32, 32), (), rngs=rngs)"
   ]
  },
  {
   "cell_type": "markdown",
   "metadata": {},
   "source": [
    "## Transfer model parameters from previous version"
   ]
  },
  {
   "cell_type": "code",
   "execution_count": 5,
   "metadata": {},
   "outputs": [],
   "source": [
    "# convolution conventions change between frameworks, need to relabel orbits\n",
    "import jaxnf\n",
    "\n",
    "def reshuffle_orbits(kernel_params, kernel_shape):\n",
    "    oc, old_orbits = jaxnf.lattice.conv_utils.kernel_d4(kernel_shape)\n",
    "    kernel = jaxnf.lattice.conv_utils.unfold_kernel(kernel_params, old_orbits)\n",
    "    for d, s in enumerate(kernel.shape[:-2]):\n",
    "        kernel = jnp.roll(kernel, -1 + (s % 2), axis=d)\n",
    "    return lfx.conv.fold_kernel(kernel, vf.conv.orbits, oc)"
   ]
  },
  {
   "cell_type": "code",
   "execution_count": 6,
   "metadata": {},
   "outputs": [],
   "source": [
    "# transfer jaxnf -> this\n",
    "\n",
    "# setup and get jaxnf parameters for demonstration\n",
    "jaxnf_vf = jaxnf.lattice.Phi4CNF((32, 32))\n",
    "params_jxnf = jaxnf_vf.init(\n",
    "    rngs.params(), 0.1, (jnp.zeros((32, 32, 1)), 0.0))['params']\n",
    "\n",
    "params_jxnf = jax.tree.map(lambda p: p + np.random.normal(size=p.shape), params_jxnf)\n",
    "\n",
    "# transfer parameters\n",
    "_, params = nnx.split(vf)\n",
    "\n",
    "params.replace_by_pure_dict({\n",
    "    'conv': {'kernel_params': reshuffle_orbits(params_jxnf['kernel'], (32, 32))},\n",
    "    'feature_map': {'features': {0: params_jxnf['features_0']}},\n",
    "    'feature_superposition': params_jxnf['freq_superpos'],\n",
    "    'time_kernel': {'superposition': params_jxnf['time_superpos']}\n",
    "})\n",
    "\n",
    "# in place update\n",
    "nnx.update(vf, params)"
   ]
  },
  {
   "cell_type": "code",
   "execution_count": 7,
   "metadata": {},
   "outputs": [],
   "source": [
    "# transfer haiku -> this\n",
    "params_haiku = np.load('../jax-flows/share-pullback/all-parameters/single-L32.npz', allow_pickle=True)['params'].item()\n",
    "\n",
    "_, params = nnx.split(vf)\n",
    "\n",
    "params.replace_by_pure_dict({\n",
    "    'conv': {'kernel_params': reshuffle_orbits(params_haiku['~']['w'], (32, 32))},\n",
    "    'feature_map': {'features': {0: {'phi_freq': params_haiku['~']['phi_freq'][None]}}},\n",
    "    'feature_superposition': params_haiku['~']['freq_superpos'],\n",
    "    'time_kernel': {'superposition': params_haiku['~']['time_superpos']}\n",
    "})\n",
    "\n",
    "# in place update\n",
    "nnx.update(vf, params)"
   ]
  },
  {
   "cell_type": "markdown",
   "metadata": {},
   "source": [
    "## Sampling"
   ]
  },
  {
   "cell_type": "code",
   "execution_count": 8,
   "metadata": {},
   "outputs": [],
   "source": [
    "flow = lfx.ContFlowRK4(vf, dt=1/50)\n",
    "sampler = lfx.Sampler(\n",
    "    lfx.IndependentNormal((32, 32), rngs=nnx.Rngs(sample=0)),\n",
    "    flow,\n",
    ")"
   ]
  },
  {
   "cell_type": "code",
   "execution_count": 10,
   "metadata": {},
   "outputs": [
    {
     "data": {
      "image/png": "[encoded data removed]",
      "text/plain": [
       "<Figure size 640x480 with 1 Axes>"
      ]
     },
     "metadata": {},
     "output_type": "display_data"
    }
   ],
   "source": [
    "x, _ = sampler.sample(())\n",
    "plt.imshow(x)\n",
    "plt.show()"
   ]
  }
 ],
 "metadata": {
  "kernelspec": {
   "display_name": "env",
   "language": "python",
   "name": "python3"
  },
  "language_info": {
   "codemirror_mode": {
    "name": "ipython",
    "version": 3
   },
   "file_extension": ".py",
   "mimetype": "text/x-python",
   "name": "python",
   "nbconvert_exporter": "python",
   "pygments_lexer": "ipython3",
   "version": "3.12.5"
  }
 },
 "nbformat": 4,
 "nbformat_minor": 2
}
