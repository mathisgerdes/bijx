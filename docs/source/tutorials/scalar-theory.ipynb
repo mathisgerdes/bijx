{
 "cells": [
  {
   "cell_type": "markdown",
   "metadata": {},
   "source": [
    "# Scalar field theory"
   ]
  },
  {
   "cell_type": "code",
   "execution_count": 1,
   "metadata": {},
   "outputs": [],
   "source": [
    "import flax\n",
    "import flax.nnx as nnx\n",
    "import jax\n",
    "import jax.numpy as jnp\n",
    "import matplotlib.pyplot as plt\n",
    "import numpy as np\n",
    "from jax_autovmap import autovmap\n",
    "\n",
    "import bijx"
   ]
  },
  {
   "cell_type": "markdown",
   "metadata": {},
   "source": [
    "## Free theory"
   ]
  },
  {
   "cell_type": "code",
   "execution_count": 2,
   "metadata": {},
   "outputs": [],
   "source": [
    "mass = 0.5\n",
    "lat_shape = (32, 32)\n",
    "\n",
    "# constructing scaling explicitly here;\n",
    "# note there is also bijx.FreeTheoryScaling (see MCMC section below)\n",
    "ks = bijx.fft_momenta(lat_shape, lattice=True)\n",
    "spectrum = 1 / (mass**2 + jnp.sum(ks**2, axis=-1))\n",
    "\n",
    "# note: specturm here could also be a nnx.Param to make it trainable;\n",
    "# or set it to output of (trainable) function of ks\n",
    "scaling = bijx.SpectrumScaling(spectrum)\n",
    "\n",
    "free_theory_prior = bijx.Transformed(\n",
    "    bijx.IndependentNormal(lat_shape, rngs=nnx.Rngs(sample=0)),\n",
    "    scaling\n",
    ")"
   ]
  },
  {
   "cell_type": "code",
   "execution_count": 3,
   "metadata": {},
   "outputs": [
    {
     "data": {
      "image/png": "[encoded data removed]",
      "text/plain": [
       "<Figure size 640x480 with 1 Axes>"
      ]
     },
     "metadata": {},
     "output_type": "display_data"
    }
   ],
   "source": [
    "x, _ = free_theory_prior.sample()\n",
    "plt.imshow(x)\n",
    "plt.axis('off')\n",
    "plt.show()"
   ]
  },
  {
   "cell_type": "markdown",
   "metadata": {},
   "source": [
    "## Scalar $\\phi^4$ theory\n",
    "\n",
    "In this section the use of the {class}`ConvCNF` network is demonstrated, as well as other methods for the scalar theory.\n",
    "The architecture was originally introduced in [[2207.00283]](https://arxiv.org/abs/2207.00283) with code available on [github](https://github.com/mathisgerdes/continuous-flow-lft/tree/master) using the haiku jax library.\n",
    "In particular, below is a demonstration of how [previously published](https://zenodo.org/records/7547918) trained parameters can be converted and used in this framework."
   ]
  },
  {
   "cell_type": "code",
   "execution_count": 4,
   "metadata": {},
   "outputs": [],
   "source": [
    "# \"build\" provides a constructor similar to the jaxnf version\n",
    "\n",
    "rngs = nnx.Rngs(params=0)\n",
    "vf = bijx.ConvCNF.build((32, 32), (), rngs=rngs)"
   ]
  },
  {
   "cell_type": "markdown",
   "metadata": {},
   "source": [
    "### Transfer model parameters from previous version"
   ]
  },
  {
   "cell_type": "code",
   "execution_count": 5,
   "metadata": {},
   "outputs": [],
   "source": [
    "# convolution conventions change between frameworks, need to relabel orbits\n",
    "\n",
    "def reshuffle_orbits(kernel_params, kernel_shape):\n",
    "    oc, old_orbits = bijx.nn.conv.kernel_d4(kernel_shape)\n",
    "    old_orbits = old_orbits[::-1, ::-1]\n",
    "    kernel = bijx.nn.conv.unfold_kernel(kernel_params, old_orbits)\n",
    "    for d, s in enumerate(kernel.shape[:-2]):\n",
    "        kernel = jnp.roll(kernel, -1 + (s % 2), axis=d)\n",
    "    return bijx.nn.conv.fold_kernel(kernel, vf.conv.orbits, oc)"
   ]
  },
  {
   "cell_type": "code",
   "execution_count": 6,
   "metadata": {},
   "outputs": [],
   "source": [
    "# transfer haiku -> this\n",
    "file_path = '../../../data/single-L32.npz'  # set this to where parameters are stored\n",
    "try:\n",
    "    params_haiku = np.load(file_path, allow_pickle=True)['params'].item()\n",
    "\n",
    "    _, params = nnx.split(vf)\n",
    "\n",
    "    params.replace_by_pure_dict({\n",
    "        'conv': {'kernel_params': reshuffle_orbits(params_haiku['~']['w'], (32, 32))},\n",
    "        'feature_map': {'features': {0: {'phi_freq': params_haiku['~']['phi_freq'][None]}}},\n",
    "        'feature_superposition': params_haiku['~']['freq_superpos'],\n",
    "        'time_kernel': {'superposition': params_haiku['~']['time_superpos']}\n",
    "    })\n",
    "\n",
    "    # in place update\n",
    "    nnx.update(vf, params)\n",
    "except FileNotFoundError:\n",
    "    print('skipping parameter loading')"
   ]
  },
  {
   "cell_type": "markdown",
   "metadata": {},
   "source": [
    "### Sampling"
   ]
  },
  {
   "cell_type": "code",
   "execution_count": 7,
   "metadata": {},
   "outputs": [],
   "source": [
    "flow = bijx.ContFlowDiffrax(vf, config=bijx.DiffraxConfig(dt=1/10))\n",
    "sampler = bijx.Transformed(\n",
    "    bijx.IndependentNormal((32, 32), rngs=nnx.Rngs(sample=0)),\n",
    "    flow,\n",
    ")"
   ]
  },
  {
   "cell_type": "code",
   "execution_count": 8,
   "metadata": {},
   "outputs": [
    {
     "data": {
      "image/png": "[encoded data removed]",
      "text/plain": [
       "<Figure size 640x480 with 1 Axes>"
      ]
     },
     "metadata": {},
     "output_type": "display_data"
    }
   ],
   "source": [
    "x, _ = sampler.sample(())\n",
    "plt.imshow(x)\n",
    "plt.axis('off')\n",
    "plt.show()"
   ]
  },
  {
   "cell_type": "markdown",
   "metadata": {},
   "source": [
    "### MCMC sampling\n",
    "\n",
    "As an example of how independent Metropolis-Hastings can be used to generate samples via a Markov chain, we will consider a simple free theory in the following.\n",
    "In particular, we will measure the acceptance rate of the Markov chian when we use a free theory of fixed mass as proposal, and increase the non-gaussian $\\phi^4$ coupling $\\lambda$ in the target theory."
   ]
  },
  {
   "cell_type": "code",
   "execution_count": 9,
   "metadata": {},
   "outputs": [],
   "source": [
    "rngs = nnx.Rngs(43)"
   ]
  },
  {
   "cell_type": "code",
   "execution_count": 10,
   "metadata": {},
   "outputs": [],
   "source": [
    "mass = 0.5\n",
    "lat_shape = (32, 32)\n",
    "\n",
    "sampler = bijx.Transformed(\n",
    "    bijx.IndependentNormal(lat_shape, rngs=nnx.Rngs(sample=0)),\n",
    "    bijx.FreeTheoryScaling(mass**2, lat_shape, half=False)\n",
    ")"
   ]
  },
  {
   "cell_type": "code",
   "execution_count": 11,
   "metadata": {},
   "outputs": [],
   "source": [
    "# for convenience, define our phi4 theory\n",
    "\n",
    "@flax.struct.dataclass\n",
    "class Phi4Theory:\n",
    "    m2: float = -4\n",
    "    lam: float = 5.0\n",
    "\n",
    "    @autovmap(None, 2)\n",
    "    def action(self, phi):\n",
    "        act = bijx.lattice.scalar.phi4_term(phi, self.m2, self.lam)\n",
    "        return jnp.sum(act) # / 2\n",
    "\n",
    "    def log_prob(self, phi):\n",
    "        return -self.action(phi)"
   ]
  },
  {
   "cell_type": "code",
   "execution_count": 12,
   "metadata": {},
   "outputs": [],
   "source": [
    "@jax.jit\n",
    "def imh_step(rng, state, mass, lam):\n",
    "    target = Phi4Theory(m2=mass**2, lam=lam)\n",
    "    imh = bijx.mcmc.IMH(sampler, target.log_prob)\n",
    "    return imh.step(rng, state)\n",
    "\n",
    "@jax.jit\n",
    "def imh_init(rng, mass, lam):\n",
    "    target = Phi4Theory(m2=mass**2, lam=lam)\n",
    "    imh = bijx.mcmc.IMH(sampler, target.log_prob)\n",
    "    return imh.init(rng)"
   ]
  },
  {
   "cell_type": "code",
   "execution_count": 13,
   "metadata": {},
   "outputs": [],
   "source": [
    "lams = np.linspace(0, 0.5, 8)\n",
    "accept_rate = np.zeros(len(lams))\n",
    "\n",
    "for i, lam in enumerate(lams):\n",
    "    count = 5000\n",
    "    accepted = 0\n",
    "\n",
    "    state = imh_init(rngs(), mass, lam)\n",
    "\n",
    "    for _ in range(count):\n",
    "        state, info = imh_step(rngs(), state, mass, lam)\n",
    "        accepted += info.is_accepted\n",
    "    accept_rate[i] = accepted / count"
   ]
  },
  {
   "cell_type": "code",
   "execution_count": 14,
   "metadata": {},
   "outputs": [
    {
     "data": {
      "image/png": "[encoded data removed]",
      "text/plain": [
       "<Figure size 640x480 with 1 Axes>"
      ]
     },
     "metadata": {},
     "output_type": "display_data"
    }
   ],
   "source": [
    "plt.title('independent MH MC with free theory proposal')\n",
    "plt.plot(lams, accept_rate)\n",
    "plt.xlabel('lambda')\n",
    "plt.ylabel('acceptance rate')\n",
    "plt.show()"
   ]
  }
 ],
 "metadata": {
  "kernelspec": {
   "display_name": "env",
   "language": "python",
   "name": "python3"
  },
  "language_info": {
   "codemirror_mode": {
    "name": "ipython",
    "version": 3
   },
   "file_extension": ".py",
   "mimetype": "text/x-python",
   "name": "python",
   "nbconvert_exporter": "python",
   "pygments_lexer": "ipython3",
   "version": "3.12.10"
  }
 },
 "nbformat": 4,
 "nbformat_minor": 2
}
