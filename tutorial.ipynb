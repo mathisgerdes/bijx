{
 "cells": [
  {
   "cell_type": "code",
   "execution_count": 1,
   "metadata": {},
   "outputs": [],
   "source": [
    "import lfx\n",
    "import flax.nnx as nnx\n",
    "import flax\n",
    "import jax\n",
    "import jax.numpy as jnp\n",
    "import numpy as np\n",
    "\n",
    "import matplotlib.pyplot as plt\n",
    "import flax.typing as ftp\n",
    "import typing as tp\n"
   ]
  },
  {
   "cell_type": "markdown",
   "metadata": {},
   "source": [
    "# Normalizing flow basics"
   ]
  },
  {
   "cell_type": "code",
   "execution_count": 2,
   "metadata": {},
   "outputs": [],
   "source": [
    "# we can start with a simple uniform [0, 1] distribution\n",
    "# (although this may often not be a great choice since log_prob is -inf outside range)\n",
    "prior = lfx.IndependentUniform(\n",
    "    (),  # shape of samples; here a scalar\n",
    "    rngs=nnx.Rngs(sample=0),  # random number generator for sampling\n",
    ")"
   ]
  },
  {
   "cell_type": "code",
   "execution_count": 3,
   "metadata": {},
   "outputs": [
    {
     "name": "stdout",
     "output_type": "stream",
     "text": [
      "x.shape=(10,), lp.shape=(10,)\n"
     ]
    }
   ],
   "source": [
    "x, lp = prior.sample(batch_shape=(10,))\n",
    "print(f'{x.shape=}, {lp.shape=}')"
   ]
  },
  {
   "cell_type": "code",
   "execution_count": 4,
   "metadata": {},
   "outputs": [],
   "source": [
    "# very simple bijection\n",
    "bijection = lfx.Chain([\n",
    "    lfx.Scaling(2),\n",
    "    lfx.Shift(-1),  # can specify floats/ints or shapes (-> parameters)\n",
    "])\n",
    "\n",
    "x, lp = bijection.forward(x, lp)"
   ]
  },
  {
   "cell_type": "code",
   "execution_count": 5,
   "metadata": {},
   "outputs": [
    {
     "name": "stdout",
     "output_type": "stream",
     "text": [
      "x.shape=(7,), lp.shape=(7,)\n"
     ]
    }
   ],
   "source": [
    "# combine into a 'sampler' (which is again a prior)\n",
    "sampler = lfx.Sampler(prior, bijection)\n",
    "\n",
    "# sample from the sampler\n",
    "x, lp = sampler.sample(batch_shape=(7,))\n",
    "print(f'{x.shape=}, {lp.shape=}')"
   ]
  },
  {
   "cell_type": "code",
   "execution_count": 6,
   "metadata": {},
   "outputs": [
    {
     "data": {
      "image/png": "[encoded data removed]",
      "text/plain": [
       "<Figure size 640x480 with 1 Axes>"
      ]
     },
     "metadata": {},
     "output_type": "display_data"
    }
   ],
   "source": [
    "# all priors including samplers implement `log_prob`\n",
    "x = np.linspace(-2, 2, 100)\n",
    "plt.plot(x, jnp.exp(prior.log_prob(x)))\n",
    "plt.plot(x, jnp.exp(sampler.log_prob(x)))\n",
    "plt.show()"
   ]
  },
  {
   "cell_type": "markdown",
   "metadata": {},
   "source": [
    "## Frozen and constant"
   ]
  },
  {
   "cell_type": "code",
   "execution_count": 7,
   "metadata": {},
   "outputs": [
    {
     "name": "stdout",
     "output_type": "stream",
     "text": [
      "const=State({\n",
      "  'scale_val': VariableState(\n",
      "    type=Const,\n",
      "    value=2.0\n",
      "  )\n",
      "})\n",
      "params=State({})\n"
     ]
    }
   ],
   "source": [
    "# scaling (and shifts) parameters can be fixed or trainable parameters\n",
    "fixed = lfx.Scaling(2.)\n",
    "graph, const, params = nnx.split(fixed, lfx.filter_frozen, nnx.Param)\n",
    "print(f'{const=}\\n{params=}')"
   ]
  },
  {
   "cell_type": "code",
   "execution_count": 8,
   "metadata": {},
   "outputs": [
    {
     "name": "stdout",
     "output_type": "stream",
     "text": [
      "const=State({})\n",
      "params=State({\n",
      "  'scale_val': VariableState(\n",
      "    type=Param,\n",
      "    value=Array(1., dtype=float32)\n",
      "  )\n",
      "})\n"
     ]
    }
   ],
   "source": [
    "trainable = lfx.Scaling((), rngs=nnx.Rngs(params=0))\n",
    "graph, const, params = nnx.split(trainable, lfx.filter_frozen, nnx.Param)\n",
    "print(f'{const=}\\n{params=}')"
   ]
  },
  {
   "cell_type": "code",
   "execution_count": 9,
   "metadata": {},
   "outputs": [
    {
     "name": "stdout",
     "output_type": "stream",
     "text": [
      "const=State({\n",
      "  'frozen': {\n",
      "    'scale_val': VariableState(\n",
      "      type=Param,\n",
      "      value=Array(1., dtype=float32)\n",
      "    )\n",
      "  }\n",
      "})\n",
      "params=State({})\n"
     ]
    }
   ],
   "source": [
    "# for convenience, e.g. when stacking flows or defining new priors,\n",
    "# we can freeze bijections with the convenience class `Frozen`\n",
    "\n",
    "frozen = lfx.Frozen(trainable)\n",
    "graph, const, params = nnx.split(frozen, lfx.filter_frozen, nnx.Param)\n",
    "print(f'{const=}\\n{params=}')"
   ]
  },
  {
   "cell_type": "markdown",
   "metadata": {},
   "source": [
    "## Multi-event flows\n",
    "\n",
    "It may not always be easy or desirable to have a single array as event.\n",
    "While many particular layers work on arrays, it should be straightforward to\n",
    "define new layers that work on more complex types.\n",
    "\n",
    "Below is an example of how priors can be defined.\n",
    "A similar approach can be taken for bijections."
   ]
  },
  {
   "cell_type": "code",
   "execution_count": 10,
   "metadata": {},
   "outputs": [],
   "source": [
    "class TwoNormal(lfx.Prior):\n",
    "\n",
    "    def __init__(self, shape_1, shape_2, rngs: nnx.Rngs | None = None):\n",
    "        super().__init__(rngs)\n",
    "        self.prior_1 = lfx.IndependentNormal(shape_1, rngs=rngs)\n",
    "        self.prior_2 = lfx.IndependentNormal(shape_2, rngs=rngs)\n",
    "\n",
    "    def sample(self, batch_shape: tuple[int, ...] = (), *, rng: ftp.PRNGKey | None = None, **kwargs):\n",
    "        rng1, rng2 = jax.random.split(self._get_rng(rng))\n",
    "        x1, lp1 = self.prior_1.sample(batch_shape, rng=rng1, **kwargs)\n",
    "        x2, lp2 = self.prior_2.sample(batch_shape, rng=rng2, **kwargs)\n",
    "        return (x1, x2), lp1 + lp2\n",
    "\n",
    "    def log_prob(self, x: tuple[jax.Array, jax.Array], **kwargs):\n",
    "        x1, x2 = x\n",
    "        lp1 = self.prior_1.log_prob(x1, **kwargs)\n",
    "        lp2 = self.prior_2.log_prob(x2, **kwargs)\n",
    "        return lp1 + lp2\n",
    "\n",
    "    def get_batch_shape(self, x: tuple[jax.Array, jax.Array]):\n",
    "        # could also assert both x's give the same batch shape\n",
    "        return self.prior_1.get_batch_shape(x[0])\n"
   ]
  },
  {
   "cell_type": "code",
   "execution_count": 11,
   "metadata": {},
   "outputs": [],
   "source": [
    "prior = TwoNormal((2,), (2,), rngs=nnx.Rngs(sample=0))"
   ]
  },
  {
   "cell_type": "code",
   "execution_count": 12,
   "metadata": {},
   "outputs": [
    {
     "name": "stdout",
     "output_type": "stream",
     "text": [
      "x[0].shape=(3, 2), x[1].shape=(3, 2), lp.shape=(3,)\n"
     ]
    }
   ],
   "source": [
    "x, lp = prior.sample(batch_shape=(3,))\n",
    "print(f'{x[0].shape=}, {x[1].shape=}, {lp.shape=}')"
   ]
  },
  {
   "cell_type": "markdown",
   "metadata": {},
   "source": [
    "# Continuous flow\n",
    "\n",
    "Starting with a simple low-dimensional flow,\n",
    "where we can compute the divergence via backprop."
   ]
  },
  {
   "cell_type": "code",
   "execution_count": 13,
   "metadata": {},
   "outputs": [],
   "source": [
    "from functools import partial\n",
    "from jax_autovmap import auto_vmap\n",
    "\n",
    "class VectorField(nnx.Module):\n",
    "\n",
    "    def __init__(self, size: int, hidden=(128, 128, 128), *, activation=nnx.gelu, rngs):\n",
    "        # let's assume here the event shape is simply (size,)\n",
    "        self.size = size\n",
    "        self.activation = activation\n",
    "        self.layers = [\n",
    "            nnx.Linear(inf, outf, rngs=rngs)\n",
    "            for inf, outf in zip([size] + list(hidden), list(hidden) + [size])\n",
    "        ]\n",
    "\n",
    "    def vector_field_base(self, x):\n",
    "        for layer in self.layers:\n",
    "            x = layer(x)\n",
    "            x = self.activation(x)\n",
    "        return x\n",
    "\n",
    "    def __call__(self, t, x):\n",
    "        # now we need to augment the vector field to also return the negative divergence\n",
    "\n",
    "        @auto_vmap(1)\n",
    "        @partial(jax.vmap, in_axes=(None, 0), out_axes=(None, -1))\n",
    "        def _jvp(x, tang):\n",
    "            return jax.jvp(self.vector_field_base, (x,), (tang,))\n",
    "\n",
    "        tang_basis = jnp.eye(x.shape[-1])  # assume event shape is just a vector\n",
    "        v, jac = _jvp(x, tang_basis)\n",
    "        return v, -jnp.trace(jac, axis1=-2, axis2=-1)"
   ]
  },
  {
   "cell_type": "code",
   "execution_count": 14,
   "metadata": {},
   "outputs": [],
   "source": [
    "vf = VectorField(2, rngs=nnx.Rngs(params=0))"
   ]
  },
  {
   "cell_type": "code",
   "execution_count": 15,
   "metadata": {},
   "outputs": [],
   "source": [
    "import diffrax\n",
    "\n",
    "\n",
    "class ContFlow(lfx.Bijection):\n",
    "    def __init__(self, vf, t_start=0, t_end=1, dt=1/20):\n",
    "        self.vf = vf\n",
    "        self.t_start = t_start\n",
    "        self.t_end = t_end\n",
    "        self.dt = dt\n",
    "\n",
    "    def forward(self, x, log_density):\n",
    "        term = diffrax.ODETerm(lambda t, state, args: self.vf(t, state[0]))\n",
    "        solver = diffrax.Tsit5()\n",
    "        y0 = (x, log_density)\n",
    "        sol = diffrax.diffeqsolve(term, solver, t0=self.t_start, t1=self.t_end, dt0=self.dt, y0=y0)\n",
    "        (x,), (log_density,) = sol.ys\n",
    "        return x, log_density\n",
    "\n",
    "    def reverse(self, x, log_density):\n",
    "        term = diffrax.ODETerm(lambda t, state, args: self.vf(t, state[0]))\n",
    "        solver = diffrax.Tsit5()\n",
    "        y0 = (x, log_density)\n",
    "        sol = diffrax.diffeqsolve(term, solver, t0=self.t_end, t1=self.t_start, dt0=-self.dt, y0=y0)\n",
    "        (x,), (log_density,) = sol.ys\n",
    "        return x, log_density\n",
    "\n",
    "\n",
    "# let's start with a gaussian prior and define a sampler\n",
    "prior = lfx.IndependentNormal((2,), rngs=nnx.Rngs(sample=0))\n",
    "flow = ContFlow(vf)\n",
    "sampler = lfx.Sampler(prior, flow)"
   ]
  },
  {
   "cell_type": "code",
   "execution_count": 16,
   "metadata": {},
   "outputs": [],
   "source": [
    "# add noise to parameters\n",
    "noise_rngs = nnx.Rngs(42)\n",
    "\n",
    "graph, params, rest = nnx.split(sampler, nnx.Param, nnx.Variable)\n",
    "params = jax.tree.map(lambda p: p + 0.1 * jax.random.normal(noise_rngs(), p.shape), params)\n",
    "sampler = nnx.merge(graph, params, rest)"
   ]
  },
  {
   "cell_type": "code",
   "execution_count": 17,
   "metadata": {},
   "outputs": [
    {
     "data": {
      "image/png": "[encoded data removed]",
      "text/plain": [
       "<Figure size 1500x500 with 2 Axes>"
      ]
     },
     "metadata": {},
     "output_type": "display_data"
    }
   ],
   "source": [
    "plt.figure(figsize=(15, 5))\n",
    "\n",
    "plt.subplot(1, 2, 1)\n",
    "x, _ = sampler.sample((10000,))\n",
    "plt.hist2d(*x.T, bins=50, range=[[-3.5, 3.5], [-3.5, 3.5]])\n",
    "plt.xlim(-3.5, 3.5)\n",
    "plt.ylim(-3.5, 3.5)\n",
    "\n",
    "plt.subplot(1, 2, 2)\n",
    "x, y = np.mgrid[-3.5:3.5:7/40, -3.5:3.5:7/40]\n",
    "dens = np.exp(sampler.log_prob(np.stack([y, x], -1)))\n",
    "plt.imshow(dens, extent=[-3.5, 3.5, -3.5, 3.5], origin='lower')\n",
    "plt.gca().set_aspect('auto')\n",
    "\n",
    "plt.show()"
   ]
  }
 ],
 "metadata": {
  "kernelspec": {
   "display_name": "env",
   "language": "python",
   "name": "python3"
  },
  "language_info": {
   "codemirror_mode": {
    "name": "ipython",
    "version": 3
   },
   "file_extension": ".py",
   "mimetype": "text/x-python",
   "name": "python",
   "nbconvert_exporter": "python",
   "pygments_lexer": "ipython3",
   "version": "3.12.5"
  }
 },
 "nbformat": 4,
 "nbformat_minor": 2
}
